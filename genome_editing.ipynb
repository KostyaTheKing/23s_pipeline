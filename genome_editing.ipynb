{
 "cells": [
  {
   "cell_type": "markdown",
   "id": "5de3c3be-7656-44a7-bfca-398c08c180ce",
   "metadata": {},
   "source": [
    "# Deleting 3 copies of rrn operon from WHO_F_2024"
   ]
  },
  {
   "cell_type": "code",
   "execution_count": 1,
   "id": "60319ca4-5fbc-481a-9fa5-e30c8ea10df7",
   "metadata": {},
   "outputs": [],
   "source": [
    "from Bio import SeqIO\n",
    "from Bio.Seq import Seq\n",
    "from Bio.SeqRecord import SeqRecord"
   ]
  },
  {
   "cell_type": "code",
   "execution_count": 2,
   "id": "af784f80-4f85-448f-aa15-64908612ad6a",
   "metadata": {},
   "outputs": [],
   "source": [
    "# Load WHO_F_2024 genome\n",
    "genome = SeqIO.read(\"ref_full_genome/who_f_2024.fa\", \"fasta\")"
   ]
  },
  {
   "cell_type": "code",
   "execution_count": 3,
   "id": "35d2d5ed-6a01-4097-9e7a-c403ea72050c",
   "metadata": {},
   "outputs": [
    {
     "name": "stdout",
     "output_type": "stream",
     "text": [
      "2292467\n",
      "2276261\n"
     ]
    }
   ],
   "source": [
    "# Removing 3 copies of rrn operon\n",
    "genome_seq = genome.seq\n",
    "genome_seq = genome_seq[:2_000_757] + genome_seq[2_006_159:]\n",
    "genome_seq = genome_seq[:1_778_506] + genome_seq[1_783_908:]\n",
    "genome_seq = genome_seq[:1_354_814] + genome_seq[1_360_216:]\n",
    "print(len(genome.seq))\n",
    "print(len(genome_seq))"
   ]
  },
  {
   "cell_type": "code",
   "execution_count": 4,
   "id": "87233860-3c8b-4ce4-8bd8-114d5cf113c4",
   "metadata": {},
   "outputs": [],
   "source": [
    "# Creating a new shortened genome\n",
    "shortened_genome = SeqRecord(\n",
    "    Seq(genome_seq),\n",
    "    name=genome.name,\n",
    "    id=genome.id,\n",
    "    description=genome.description,\n",
    "    dbxrefs=genome.dbxrefs,\n",
    "    features=genome.features,\n",
    "    annotations=genome.annotations,\n",
    ")"
   ]
  },
  {
   "cell_type": "code",
   "execution_count": 5,
   "id": "5cc4fe5e-bbaf-4780-b739-67b629b76654",
   "metadata": {},
   "outputs": [
    {
     "data": {
      "text/plain": [
       "1"
      ]
     },
     "execution_count": 5,
     "metadata": {},
     "output_type": "execute_result"
    }
   ],
   "source": [
    "# Saving a new shortened genome\n",
    "SeqIO.write(shortened_genome, \"who_f_2024_short.fa\", \"fasta\")"
   ]
  },
  {
   "cell_type": "markdown",
   "id": "3dfd0bfc-bb12-42ef-8f49-a7fa6ed8258c",
   "metadata": {},
   "source": [
    "# Searching for the relevant SNP sites in a reverse-complement genome"
   ]
  },
  {
   "cell_type": "code",
   "execution_count": 6,
   "id": "cd7725be-0830-4457-bf42-ee2b4aae3fcf",
   "metadata": {},
   "outputs": [
    {
     "name": "stdout",
     "output_type": "stream",
     "text": [
      "New coordinates of rrl gene: [1061129, 1064020]\n",
      "New coordinates of rrn operon: [1058984, 1064385]\n",
      "New coordinates of SNP sites in 23S rRNA gene: {2611: 1063727, 2058: 1063174, 2059: 1063175}\n"
     ]
    }
   ],
   "source": [
    "# rrl and rrn coordinates before reverse-complementing\n",
    "pos_before = [1_212_242, 1_215_133]\n",
    "pos_rrn_before = [1_211_877, 1_217_278]\n",
    "\n",
    "# Loading shortened genome\n",
    "short_genome = SeqIO.read(\"ref_short_genome/revc_who_f_2024.fa\", \"fasta\")\n",
    "\n",
    "# Finding genome length\n",
    "genome_len = len(short_genome.seq)\n",
    "\n",
    "# SNP sites in rrl gene. {E. coli numbering: N. gonorrhoeae numbering}.\n",
    "mut_sites = {2611: 2599, 2058: 2046, 2059: 2047}\n",
    "\n",
    "# New coordinates of rrl and rrn after obtaining reverse-complement sequence\n",
    "pos_new = [-i + genome_len + 1 for i in pos_before][::-1]\n",
    "pos_rrn_new = [-i + genome_len + 1 for i in pos_rrn_before][::-1]\n",
    "\n",
    "# New coordinates of SNP sites\n",
    "mut_sites_in_genome = {\n",
    "    2611: mut_sites[2611] - 1 + pos_new[0],\n",
    "    2058: mut_sites[2058] - 1 + pos_new[0],\n",
    "    2059: mut_sites[2059] - 1 + pos_new[0],\n",
    "}\n",
    "\n",
    "print(f\"New coordinates of rrl gene: {pos_new}\")\n",
    "\n",
    "print(f\"New coordinates of rrn operon: {pos_rrn_new}\")\n",
    "\n",
    "print(f\"New coordinates of SNP sites in 23S rRNA gene: {mut_sites_in_genome}\")"
   ]
  }
 ],
 "metadata": {
  "kernelspec": {
   "display_name": "snakemake",
   "language": "python",
   "name": "python3"
  },
  "language_info": {
   "codemirror_mode": {
    "name": "ipython",
    "version": 3
   },
   "file_extension": ".py",
   "mimetype": "text/x-python",
   "name": "python",
   "nbconvert_exporter": "python",
   "pygments_lexer": "ipython3",
   "version": "3.12.10"
  }
 },
 "nbformat": 4,
 "nbformat_minor": 5
}
